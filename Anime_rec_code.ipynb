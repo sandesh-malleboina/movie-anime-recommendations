{
 "cells": [
  {
   "cell_type": "code",
   "execution_count": null,
   "id": "6738786b-5b59-40d3-9fdc-1b8d2105758e",
   "metadata": {
    "id": "6738786b-5b59-40d3-9fdc-1b8d2105758e"
   },
   "outputs": [],
   "source": [
    "import pandas as pd\n",
    "from sklearn.metrics.pairwise import cosine_similarity\n",
    "from sklearn.feature_extraction.text import TfidfVectorizer"
   ]
  },
  {
   "cell_type": "code",
   "execution_count": null,
   "id": "182042ea-7367-4d0b-bf0e-b57a6ecfb539",
   "metadata": {
    "id": "182042ea-7367-4d0b-bf0e-b57a6ecfb539"
   },
   "outputs": [],
   "source": [
    "# Loading data sets\n",
    "anime_df = pd.read_csv('anime.csv', names=['anime_id', 'name', 'genre', 'type', 'episodes', 'rating', 'members'], header=0)\n",
    "user_ratings_df = pd.read_csv('rating.csv', names=['user_id', 'anime_id', 'rating'], header=0)"
   ]
  },
  {
   "cell_type": "code",
   "execution_count": null,
   "id": "97f934c2-23af-40a2-b91d-7d382f2fd6d8",
   "metadata": {
    "id": "97f934c2-23af-40a2-b91d-7d382f2fd6d8"
   },
   "outputs": [],
   "source": [
    "# Create a dictionary to map anime_id to anime details\n",
    "anime_titles_dict = dict(zip(anime_df.anime_id, anime_df.name))"
   ]
  },
  {
   "cell_type": "code",
   "execution_count": null,
   "id": "f195119e-73f2-460c-be73-c2f5121c9771",
   "metadata": {
    "colab": {
     "base_uri": "https://localhost:8080/"
    },
    "id": "f195119e-73f2-460c-be73-c2f5121c9771",
    "outputId": "b408deb0-2679-42e8-b13b-347c192076c9"
   },
   "outputs": [
    {
     "name": "stdout",
     "output_type": "stream",
     "text": [
      "<class 'pandas.core.frame.DataFrame'>\n",
      "RangeIndex: 12294 entries, 0 to 12293\n",
      "Data columns (total 7 columns):\n",
      " #   Column    Non-Null Count  Dtype  \n",
      "---  ------    --------------  -----  \n",
      " 0   anime_id  12294 non-null  int64  \n",
      " 1   name      12294 non-null  object \n",
      " 2   genre     12232 non-null  object \n",
      " 3   type      12269 non-null  object \n",
      " 4   episodes  12294 non-null  object \n",
      " 5   rating    12064 non-null  float64\n",
      " 6   members   12294 non-null  int64  \n",
      "dtypes: float64(1), int64(2), object(4)\n",
      "memory usage: 672.5+ KB\n"
     ]
    }
   ],
   "source": [
    "anime_df.info()"
   ]
  },
  {
   "cell_type": "code",
   "execution_count": null,
   "id": "174084f0-a316-4a62-9328-9467df4ac634",
   "metadata": {
    "colab": {
     "base_uri": "https://localhost:8080/"
    },
    "id": "174084f0-a316-4a62-9328-9467df4ac634",
    "outputId": "a28a6519-a51a-4474-988d-25256cf9d81d"
   },
   "outputs": [
    {
     "name": "stdout",
     "output_type": "stream",
     "text": [
      "<class 'pandas.core.frame.DataFrame'>\n",
      "RangeIndex: 7813737 entries, 0 to 7813736\n",
      "Data columns (total 3 columns):\n",
      " #   Column    Dtype\n",
      "---  ------    -----\n",
      " 0   user_id   int64\n",
      " 1   anime_id  int64\n",
      " 2   rating    int64\n",
      "dtypes: int64(3)\n",
      "memory usage: 178.8 MB\n"
     ]
    }
   ],
   "source": [
    "user_ratings_df.info()"
   ]
  },
  {
   "cell_type": "code",
   "execution_count": null,
   "id": "a0c13b89-47b9-4098-adbc-34ab2e17c861",
   "metadata": {
    "id": "a0c13b89-47b9-4098-adbc-34ab2e17c861"
   },
   "outputs": [],
   "source": [
    "# Content-Based Filtering\n",
    "def contentBasedFiltering(animeID, anime_titles_dict, anime_df, n=5):\n",
    "    \"\"\"Content-Based Filtering: Recommend top N anime based on anime genre similarity.\"\"\"\n",
    "    if animeID not in anime_titles_dict:\n",
    "        print(\"Anime not found!\")\n",
    "        return []\n",
    "\n",
    "    # Combine relevant features (genre, name) into a single string\n",
    "    anime_df['content'] = anime_df['genre'].fillna('') + ' ' + anime_df['name'].fillna('')\n",
    "\n",
    "    # Create TF-IDF matrix for anime genres and names\n",
    "    tfidf = TfidfVectorizer(stop_words='english')\n",
    "    tfidf_matrix = tfidf.fit_transform(anime_df['content'])\n",
    "\n",
    "    # Get the index of the anime in the DataFrame\n",
    "    anime_index = anime_df[anime_df['anime_id'] == animeID].index[0]\n",
    "\n",
    "    # Compute cosine similarity between the given anime and all other anime\n",
    "    cosine_sim = cosine_similarity(tfidf_matrix[anime_index], tfidf_matrix).flatten()\n",
    "\n",
    "    # Get indices of the most similar anime\n",
    "    similar_anime_indices = cosine_sim.argsort()[-(n + 1):][::-1][1:]\n",
    "\n",
    "    # Get the anime_ids of the recommended anime\n",
    "    recommended_anime_ids = anime_df.iloc[similar_anime_indices]['anime_id'].values\n",
    "\n",
    "    # Return the recommended anime titles\n",
    "    recommended_anime_titles = [anime_titles_dict.get(anime_id, \"Unknown Anime\") for anime_id in recommended_anime_ids]\n",
    "\n",
    "    print(f\"Anime similar to '{anime_titles_dict[animeID]}':\")\n",
    "    for anime in recommended_anime_titles:\n",
    "        print(anime)\n",
    "\n",
    "    return recommended_anime_titles\n",
    "\n",
    "# Other menu functions\n",
    "def countUsers(user_ratings_df):\n",
    "    \"\"\"Count the total number of unique users.\"\"\"\n",
    "    print(f\"Total users: {user_ratings_df['user_id'].nunique()}\")\n",
    "\n",
    "def countAnime(anime_df):\n",
    "    \"\"\"Count the total number of distinct anime.\"\"\"\n",
    "    print(f\"Total anime: {anime_df['anime_id'].nunique()}\")\n",
    "\n",
    "def displayAnime(anime_titles_dict, animeID):\n",
    "    \"\"\"Display the title of an anime given its anime ID.\"\"\"\n",
    "    anime_title = anime_titles_dict.get(animeID, \"Anime not found!\")\n",
    "    print(anime_title)\n",
    "    return anime_title"
   ]
  },
  {
   "cell_type": "code",
   "execution_count": null,
   "id": "33f07e88-5be3-4b4d-b8a2-488f21f58da0",
   "metadata": {
    "colab": {
     "base_uri": "https://localhost:8080/"
    },
    "id": "33f07e88-5be3-4b4d-b8a2-488f21f58da0",
    "outputId": "5514e47f-5a2a-45a0-b142-ff1060dea3db"
   },
   "outputs": [
    {
     "name": "stdout",
     "output_type": "stream",
     "text": [
      "\n",
      "Menu:\n",
      "1. Count Users\n",
      "2. Count Anime\n",
      "3. Display Anime Information\n",
      "4. Recommend Anime (Content-Based Filtering)\n",
      "5. Exit\n",
      "Enter your choice: 1\n",
      "Total users: 73515\n",
      "\n",
      "Menu:\n",
      "1. Count Users\n",
      "2. Count Anime\n",
      "3. Display Anime Information\n",
      "4. Recommend Anime (Content-Based Filtering)\n",
      "5. Exit\n",
      "Enter your choice: 2\n",
      "Total anime: 12294\n",
      "\n",
      "Menu:\n",
      "1. Count Users\n",
      "2. Count Anime\n",
      "3. Display Anime Information\n",
      "4. Recommend Anime (Content-Based Filtering)\n",
      "5. Exit\n",
      "Enter your choice: 3\n",
      "Enter anime ID: 30276\n",
      "One Punch Man\n",
      "\n",
      "Menu:\n",
      "1. Count Users\n",
      "2. Count Anime\n",
      "3. Display Anime Information\n",
      "4. Recommend Anime (Content-Based Filtering)\n",
      "5. Exit\n",
      "Enter your choice: 4\n",
      "Enter anime ID for content-based recommendations: 30276\n",
      "How many recommendations do you want?: 10\n",
      "Anime similar to 'One Punch Man':\n",
      "One Punch Man 2\n",
      "One Punch Man Specials\n",
      "One Punch Man: Road to Hero\n",
      "Punch Line\n",
      "Eat-Man\n",
      "K\n",
      "Skull Man\n",
      "Eat-Man &#039;98\n",
      "R.O.D the TV\n",
      "Gungrave\n",
      "\n",
      "Menu:\n",
      "1. Count Users\n",
      "2. Count Anime\n",
      "3. Display Anime Information\n",
      "4. Recommend Anime (Content-Based Filtering)\n",
      "5. Exit\n",
      "Enter your choice: 5\n",
      "Exiting...\n"
     ]
    }
   ],
   "source": [
    "# Menu-based interaction\n",
    "while True:\n",
    "    print(\"\\nMenu:\")\n",
    "    print(\"1. Count Users\")\n",
    "    print(\"2. Count Anime\")\n",
    "    print(\"3. Display Anime Information\")\n",
    "    print(\"4. Recommend Anime (Content-Based Filtering)\")\n",
    "    print(\"5. Exit\")\n",
    "\n",
    "    choice = input(\"Enter your choice: \").lower()\n",
    "\n",
    "    if choice == '1':\n",
    "        countUsers(user_ratings_df)\n",
    "\n",
    "    elif choice == '2':\n",
    "        countAnime(anime_df)\n",
    "\n",
    "    elif choice == '3':\n",
    "        anime_id = int(input(\"Enter anime ID: \"))\n",
    "        displayAnime(anime_titles_dict, anime_id)\n",
    "\n",
    "    elif choice == '4':\n",
    "        anime_id = int(input(\"Enter anime ID for content-based recommendations: \"))\n",
    "        num_recommendations = int(input(\"How many recommendations do you want?: \"))\n",
    "        contentBasedFiltering(anime_id, anime_titles_dict, anime_df, num_recommendations)\n",
    "\n",
    "    elif choice == '5':\n",
    "        print(\"Exiting...\")\n",
    "        break\n",
    "\n",
    "    else:\n",
    "        print(\"Invalid choice! Please select a valid option.\")"
   ]
  },
  {
   "cell_type": "code",
   "execution_count": null,
   "id": "aa648ae8-77c9-4d6a-ac74-3e91e4ee0f70",
   "metadata": {
    "id": "aa648ae8-77c9-4d6a-ac74-3e91e4ee0f70"
   },
   "outputs": [],
   "source": []
  }
 ],
 "metadata": {
  "colab": {
   "provenance": []
  },
  "kernelspec": {
   "display_name": "Python 3 (ipykernel)",
   "language": "python",
   "name": "python3"
  },
  "language_info": {
   "codemirror_mode": {
    "name": "ipython",
    "version": 3
   },
   "file_extension": ".py",
   "mimetype": "text/x-python",
   "name": "python",
   "nbconvert_exporter": "python",
   "pygments_lexer": "ipython3",
   "version": "3.12.4"
  }
 },
 "nbformat": 4,
 "nbformat_minor": 5
}
